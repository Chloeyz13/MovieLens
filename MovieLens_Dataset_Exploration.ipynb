{
 "cells": [
  {
   "cell_type": "markdown",
   "metadata": {
    "id": "SMt6cxy5JGqn"
   },
   "source": [
    "# MovieLens Dataset Exploration\n",
    "\n",
    "**Data source**\n",
    "\n",
    "[MovieLens Tag Genome Dataset 2021]( https://grouplens.org/datasets/movielens/)\n",
    "\n"
   ]
  },
  {
   "cell_type": "markdown",
   "metadata": {
    "id": "BZI4e8OdMhOa"
   },
   "source": [
    "## 1. Import Packages"
   ]
  },
  {
   "cell_type": "code",
   "execution_count": 226,
   "metadata": {},
   "outputs": [
    {
     "name": "stdout",
     "output_type": "stream",
     "text": [
      "Collecting nltk\n",
      "  Downloading nltk-3.8.1-py3-none-any.whl (1.5 MB)\n",
      "\u001b[2K     \u001b[90m━━━━━━━━━━━━━━━━━━━━━━━━━━━━━━━━━━━━━━━━\u001b[0m \u001b[32m1.5/1.5 MB\u001b[0m \u001b[31m19.9 MB/s\u001b[0m eta \u001b[36m0:00:00\u001b[0ma \u001b[36m0:00:01\u001b[0m\n",
      "\u001b[?25hRequirement already satisfied: click in /Users/chloe/opt/miniconda3/lib/python3.9/site-packages (from nltk) (7.1.2)\n",
      "Requirement already satisfied: joblib in /Users/chloe/opt/miniconda3/lib/python3.9/site-packages (from nltk) (1.1.1)\n",
      "Collecting regex>=2021.8.3 (from nltk)\n",
      "  Downloading regex-2023.6.3-cp39-cp39-macosx_11_0_arm64.whl (288 kB)\n",
      "\u001b[2K     \u001b[90m━━━━━━━━━━━━━━━━━━━━━━━━━━━━━━━━━━━━━━\u001b[0m \u001b[32m289.0/289.0 kB\u001b[0m \u001b[31m36.1 MB/s\u001b[0m eta \u001b[36m0:00:00\u001b[0m\n",
      "\u001b[?25hRequirement already satisfied: tqdm in /Users/chloe/opt/miniconda3/lib/python3.9/site-packages (from nltk) (4.64.0)\n",
      "Installing collected packages: regex, nltk\n",
      "Successfully installed nltk-3.8.1 regex-2023.6.3\n",
      "Note: you may need to restart the kernel to use updated packages.\n"
     ]
    }
   ],
   "source": [
    "pip install nltk"
   ]
  },
  {
   "cell_type": "code",
   "execution_count": 227,
   "metadata": {
    "id": "agPwxVQEEWin"
   },
   "outputs": [
    {
     "name": "stderr",
     "output_type": "stream",
     "text": [
      "[nltk_data] Downloading package stopwords to /Users/chloe/nltk_data...\n",
      "[nltk_data]   Unzipping corpora/stopwords.zip.\n"
     ]
    },
    {
     "data": {
      "text/plain": [
       "True"
      ]
     },
     "execution_count": 227,
     "metadata": {},
     "output_type": "execute_result"
    }
   ],
   "source": [
    "import pandas as pd\n",
    "import numpy as np\n",
    "import matplotlib.pyplot as plt\n",
    "import seaborn as sns\n",
    "import re\n",
    "import nltk; nltk.download('stopwords')"
   ]
  },
  {
   "cell_type": "code",
   "execution_count": 228,
   "metadata": {},
   "outputs": [],
   "source": [
    "from nltk.corpus import stopwords"
   ]
  },
  {
   "cell_type": "markdown",
   "metadata": {
    "id": "vAryZ2BvModB"
   },
   "source": [
    "## 2. Load Datasets"
   ]
  },
  {
   "cell_type": "code",
   "execution_count": 78,
   "metadata": {},
   "outputs": [],
   "source": [
    "# Load json files to dataframes\n",
    "df_metadata_updated = pd.read_json('movie_dataset_public_final/raw/metadata_updated.json', lines=True)\n",
    "df_ratings = pd.read_json('movie_dataset_public_final/raw/ratings.json', lines=True)\n",
    "df_reviews = pd.read_json('movie_dataset_public_final/raw/reviews.json', lines=True)\n",
    "df_tags = pd.read_json('movie_dataset_public_final/raw/tags.json', lines=True)\n",
    "df_tag_count = pd.read_json('movie_dataset_public_final/raw/tag_count.json', lines=True)\n",
    "df_survey_answers = pd.read_json('movie_dataset_public_final/raw/survey_answers.json', lines=True)"
   ]
  },
  {
   "cell_type": "markdown",
   "metadata": {},
   "source": [
    "## 3. Explore Data"
   ]
  },
  {
   "cell_type": "markdown",
   "metadata": {},
   "source": [
    "### 3.1 Explore dataset about movies"
   ]
  },
  {
   "cell_type": "code",
   "execution_count": 112,
   "metadata": {
    "colab": {
     "base_uri": "https://localhost:8080/",
     "height": 571
    },
    "id": "cdvpGFxoRG8S",
    "outputId": "0a1249f0-ace8-4c69-f7c0-3239fd7ae733",
    "scrolled": true
   },
   "outputs": [
    {
     "data": {
      "text/html": [
       "<div>\n",
       "<style scoped>\n",
       "    .dataframe tbody tr th:only-of-type {\n",
       "        vertical-align: middle;\n",
       "    }\n",
       "\n",
       "    .dataframe tbody tr th {\n",
       "        vertical-align: top;\n",
       "    }\n",
       "\n",
       "    .dataframe thead th {\n",
       "        text-align: right;\n",
       "    }\n",
       "</style>\n",
       "<table border=\"1\" class=\"dataframe\">\n",
       "  <thead>\n",
       "    <tr style=\"text-align: right;\">\n",
       "      <th></th>\n",
       "      <th>title</th>\n",
       "      <th>directedBy</th>\n",
       "      <th>starring</th>\n",
       "      <th>avgRating</th>\n",
       "      <th>imdbId</th>\n",
       "      <th>item_id</th>\n",
       "    </tr>\n",
       "  </thead>\n",
       "  <tbody>\n",
       "    <tr>\n",
       "      <th>0</th>\n",
       "      <td>Toy Story (1995)</td>\n",
       "      <td>John Lasseter</td>\n",
       "      <td>Tim Allen, Tom Hanks, Don Rickles, Jim Varney,...</td>\n",
       "      <td>3.89146</td>\n",
       "      <td>114709</td>\n",
       "      <td>1</td>\n",
       "    </tr>\n",
       "    <tr>\n",
       "      <th>1</th>\n",
       "      <td>Jumanji (1995)</td>\n",
       "      <td>Joe Johnston</td>\n",
       "      <td>Jonathan Hyde, Bradley Pierce, Robin Williams,...</td>\n",
       "      <td>3.26605</td>\n",
       "      <td>113497</td>\n",
       "      <td>2</td>\n",
       "    </tr>\n",
       "    <tr>\n",
       "      <th>2</th>\n",
       "      <td>Grumpier Old Men (1995)</td>\n",
       "      <td>Howard Deutch</td>\n",
       "      <td>Jack Lemmon, Walter Matthau, Ann-Margret , Sop...</td>\n",
       "      <td>3.17146</td>\n",
       "      <td>113228</td>\n",
       "      <td>3</td>\n",
       "    </tr>\n",
       "    <tr>\n",
       "      <th>3</th>\n",
       "      <td>Waiting to Exhale (1995)</td>\n",
       "      <td>Forest Whitaker</td>\n",
       "      <td>Angela Bassett, Loretta Devine, Whitney Housto...</td>\n",
       "      <td>2.86824</td>\n",
       "      <td>114885</td>\n",
       "      <td>4</td>\n",
       "    </tr>\n",
       "    <tr>\n",
       "      <th>4</th>\n",
       "      <td>Father of the Bride Part II (1995)</td>\n",
       "      <td>Charles Shyer</td>\n",
       "      <td>Steve Martin, Martin Short, Diane Keaton, Kimb...</td>\n",
       "      <td>3.07620</td>\n",
       "      <td>113041</td>\n",
       "      <td>5</td>\n",
       "    </tr>\n",
       "  </tbody>\n",
       "</table>\n",
       "</div>"
      ],
      "text/plain": [
       "                                title       directedBy  \\\n",
       "0                    Toy Story (1995)    John Lasseter   \n",
       "1                      Jumanji (1995)     Joe Johnston   \n",
       "2             Grumpier Old Men (1995)    Howard Deutch   \n",
       "3            Waiting to Exhale (1995)  Forest Whitaker   \n",
       "4  Father of the Bride Part II (1995)    Charles Shyer   \n",
       "\n",
       "                                            starring  avgRating  imdbId  \\\n",
       "0  Tim Allen, Tom Hanks, Don Rickles, Jim Varney,...    3.89146  114709   \n",
       "1  Jonathan Hyde, Bradley Pierce, Robin Williams,...    3.26605  113497   \n",
       "2  Jack Lemmon, Walter Matthau, Ann-Margret , Sop...    3.17146  113228   \n",
       "3  Angela Bassett, Loretta Devine, Whitney Housto...    2.86824  114885   \n",
       "4  Steve Martin, Martin Short, Diane Keaton, Kimb...    3.07620  113041   \n",
       "\n",
       "   item_id  \n",
       "0        1  \n",
       "1        2  \n",
       "2        3  \n",
       "3        4  \n",
       "4        5  "
      ]
     },
     "execution_count": 112,
     "metadata": {},
     "output_type": "execute_result"
    }
   ],
   "source": [
    "df_metadata_updated.head()"
   ]
  },
  {
   "cell_type": "code",
   "execution_count": 3,
   "metadata": {
    "scrolled": true
   },
   "outputs": [
    {
     "data": {
      "text/plain": [
       "title          object\n",
       "directedBy     object\n",
       "starring       object\n",
       "avgRating     float64\n",
       "imdbId          int64\n",
       "item_id         int64\n",
       "dtype: object"
      ]
     },
     "execution_count": 3,
     "metadata": {},
     "output_type": "execute_result"
    }
   ],
   "source": [
    "# Display the data types of each column\n",
    "df_metadata_updated.dtypes"
   ]
  },
  {
   "cell_type": "code",
   "execution_count": 113,
   "metadata": {},
   "outputs": [
    {
     "name": "stdout",
     "output_type": "stream",
     "text": [
      "(84661, 6)\n"
     ]
    },
    {
     "data": {
      "text/plain": [
       "title            0\n",
       "directedBy    3147\n",
       "starring      6883\n",
       "avgRating        0\n",
       "imdbId           0\n",
       "item_id          0\n",
       "dtype: int64"
      ]
     },
     "execution_count": 113,
     "metadata": {},
     "output_type": "execute_result"
    }
   ],
   "source": [
    "# Replace empty strings with NaN\n",
    "df_metadata_updated.replace('', np.nan, inplace=True)\n",
    "\n",
    "# Print the shape of df\n",
    "print(df_metadata_updated.shape)\n",
    "\n",
    "# Count the number of missing values in each column\n",
    "df_metadata_updated.isnull().sum()"
   ]
  },
  {
   "cell_type": "markdown",
   "metadata": {},
   "source": [
    "#### 3.1.1 metadata - avgRating"
   ]
  },
  {
   "cell_type": "code",
   "execution_count": 76,
   "metadata": {},
   "outputs": [
    {
     "data": {
      "text/plain": [
       "count    84661.000000\n",
       "mean         2.542259\n",
       "std          1.318743\n",
       "min          0.000000\n",
       "25%          2.000000\n",
       "50%          3.000000\n",
       "75%          3.494950\n",
       "max          5.000000\n",
       "Name: avgRating, dtype: float64"
      ]
     },
     "execution_count": 76,
     "metadata": {},
     "output_type": "execute_result"
    }
   ],
   "source": [
    "df_metadata_updated['avgRating'].describe()"
   ]
  },
  {
   "cell_type": "code",
   "execution_count": 55,
   "metadata": {},
   "outputs": [
    {
     "data": {
      "image/png": "[encoded data removed]",
      "text/plain": [
       "<Figure size 640x480 with 1 Axes>"
      ]
     },
     "metadata": {},
     "output_type": "display_data"
    }
   ],
   "source": [
    "# Plot the distribution of 'avgRating'\n",
    "ax = df_metadata_updated['avgRating'].plot(kind='kde')\n",
    "\n",
    "# Set labels and title\n",
    "plt.xlabel('avgRating')\n",
    "plt.ylabel('Density')\n",
    "plt.title('Distribution of 84661 avgRatings')\n",
    "\n",
    "# Set x-axis limits\n",
    "plt.xlim(0, 5)\n",
    "\n",
    "# Show the plot\n",
    "plt.show()"
   ]
  },
  {
   "cell_type": "markdown",
   "metadata": {},
   "source": [
    "#### 3.1.2 metadata - title"
   ]
  },
  {
   "cell_type": "code",
   "execution_count": 5,
   "metadata": {
    "scrolled": true
   },
   "outputs": [
    {
     "data": {
      "text/html": [
       "<div>\n",
       "<style scoped>\n",
       "    .dataframe tbody tr th:only-of-type {\n",
       "        vertical-align: middle;\n",
       "    }\n",
       "\n",
       "    .dataframe tbody tr th {\n",
       "        vertical-align: top;\n",
       "    }\n",
       "\n",
       "    .dataframe thead th {\n",
       "        text-align: right;\n",
       "    }\n",
       "</style>\n",
       "<table border=\"1\" class=\"dataframe\">\n",
       "  <thead>\n",
       "    <tr style=\"text-align: right;\">\n",
       "      <th></th>\n",
       "      <th>title</th>\n",
       "      <th>directedBy</th>\n",
       "      <th>starring</th>\n",
       "      <th>avgRating</th>\n",
       "      <th>imdbId</th>\n",
       "      <th>item_id</th>\n",
       "    </tr>\n",
       "  </thead>\n",
       "  <tbody>\n",
       "    <tr>\n",
       "      <th>21186</th>\n",
       "      <td>20,000 Leagues Under the Sea (1997)</td>\n",
       "      <td>Rod Hardy</td>\n",
       "      <td>Michael Caine, Patrick Dempsey, Mia Sara, Brya...</td>\n",
       "      <td>2.50000</td>\n",
       "      <td>118248</td>\n",
       "      <td>102190</td>\n",
       "    </tr>\n",
       "    <tr>\n",
       "      <th>24772</th>\n",
       "      <td>20,000 Leagues Under the Sea (1997)</td>\n",
       "      <td>Michael Anderson</td>\n",
       "      <td>Richard Crenna, Ben Cross, Julie Cox, Paul Gross</td>\n",
       "      <td>2.80000</td>\n",
       "      <td>118247</td>\n",
       "      <td>114130</td>\n",
       "    </tr>\n",
       "    <tr>\n",
       "      <th>67542</th>\n",
       "      <td>9 (2009)</td>\n",
       "      <td>Candela Peña</td>\n",
       "      <td>Elena Anaya,Francisco Boira,Pilar Castro,Pablo...</td>\n",
       "      <td>1.00000</td>\n",
       "      <td>1430606</td>\n",
       "      <td>204982</td>\n",
       "    </tr>\n",
       "    <tr>\n",
       "      <th>14218</th>\n",
       "      <td>9 (2009)</td>\n",
       "      <td>Shane Acker</td>\n",
       "      <td>Christopher Plummer, Martin Landau, John C. Re...</td>\n",
       "      <td>3.45896</td>\n",
       "      <td>472033</td>\n",
       "      <td>71057</td>\n",
       "    </tr>\n",
       "    <tr>\n",
       "      <th>19619</th>\n",
       "      <td>ATM (2012)</td>\n",
       "      <td>David Brooks</td>\n",
       "      <td>Alice Eve, Josh Peck, Brian Geraghty</td>\n",
       "      <td>2.51210</td>\n",
       "      <td>1603257</td>\n",
       "      <td>96456</td>\n",
       "    </tr>\n",
       "    <tr>\n",
       "      <th>...</th>\n",
       "      <td>...</td>\n",
       "      <td>...</td>\n",
       "      <td>...</td>\n",
       "      <td>...</td>\n",
       "      <td>...</td>\n",
       "      <td>...</td>\n",
       "    </tr>\n",
       "    <tr>\n",
       "      <th>62698</th>\n",
       "      <td>White Lily (2016)</td>\n",
       "      <td>Tristan Ofield</td>\n",
       "      <td>Siddhii Lagrutta,David McCaffrey</td>\n",
       "      <td>1.33333</td>\n",
       "      <td>5918946</td>\n",
       "      <td>195275</td>\n",
       "    </tr>\n",
       "    <tr>\n",
       "      <th>73880</th>\n",
       "      <td>Wretch (2019)</td>\n",
       "      <td>Matthew Dunehoo</td>\n",
       "      <td>Maria Olsen,Shannon Conley,Joe Rooney,Erin Day...</td>\n",
       "      <td>0.00000</td>\n",
       "      <td>8005088</td>\n",
       "      <td>217755</td>\n",
       "    </tr>\n",
       "    <tr>\n",
       "      <th>64291</th>\n",
       "      <td>Wretch (2019)</td>\n",
       "      <td>Brian Cunningham</td>\n",
       "      <td>Megan Massie,Spencer Korcz,Riker Hill,Savannah...</td>\n",
       "      <td>0.50000</td>\n",
       "      <td>7221072</td>\n",
       "      <td>198467</td>\n",
       "    </tr>\n",
       "    <tr>\n",
       "      <th>46095</th>\n",
       "      <td>Youth (2013)</td>\n",
       "      <td>Tom Shoval</td>\n",
       "      <td>Eitan Cunio,David Cunio,Moshe Ivgy,Shirili Des...</td>\n",
       "      <td>3.25000</td>\n",
       "      <td>2670524</td>\n",
       "      <td>161906</td>\n",
       "    </tr>\n",
       "    <tr>\n",
       "      <th>82745</th>\n",
       "      <td>Youth (2013)</td>\n",
       "      <td>Justine Malle</td>\n",
       "      <td>Esther Garrel,Didier Bezace,Émile Bertherat,Au...</td>\n",
       "      <td>0.00000</td>\n",
       "      <td>2536448</td>\n",
       "      <td>235485</td>\n",
       "    </tr>\n",
       "  </tbody>\n",
       "</table>\n",
       "<p>352 rows × 6 columns</p>\n",
       "</div>"
      ],
      "text/plain": [
       "                                     title        directedBy  \\\n",
       "21186  20,000 Leagues Under the Sea (1997)         Rod Hardy   \n",
       "24772  20,000 Leagues Under the Sea (1997)  Michael Anderson   \n",
       "67542                             9 (2009)      Candela Peña   \n",
       "14218                             9 (2009)       Shane Acker   \n",
       "19619                           ATM (2012)      David Brooks   \n",
       "...                                    ...               ...   \n",
       "62698                    White Lily (2016)    Tristan Ofield   \n",
       "73880                        Wretch (2019)   Matthew Dunehoo   \n",
       "64291                        Wretch (2019)  Brian Cunningham   \n",
       "46095                         Youth (2013)        Tom Shoval   \n",
       "82745                         Youth (2013)     Justine Malle   \n",
       "\n",
       "                                                starring  avgRating   imdbId  \\\n",
       "21186  Michael Caine, Patrick Dempsey, Mia Sara, Brya...    2.50000   118248   \n",
       "24772   Richard Crenna, Ben Cross, Julie Cox, Paul Gross    2.80000   118247   \n",
       "67542  Elena Anaya,Francisco Boira,Pilar Castro,Pablo...    1.00000  1430606   \n",
       "14218  Christopher Plummer, Martin Landau, John C. Re...    3.45896   472033   \n",
       "19619               Alice Eve, Josh Peck, Brian Geraghty    2.51210  1603257   \n",
       "...                                                  ...        ...      ...   \n",
       "62698                   Siddhii Lagrutta,David McCaffrey    1.33333  5918946   \n",
       "73880  Maria Olsen,Shannon Conley,Joe Rooney,Erin Day...    0.00000  8005088   \n",
       "64291  Megan Massie,Spencer Korcz,Riker Hill,Savannah...    0.50000  7221072   \n",
       "46095  Eitan Cunio,David Cunio,Moshe Ivgy,Shirili Des...    3.25000  2670524   \n",
       "82745  Esther Garrel,Didier Bezace,Émile Bertherat,Au...    0.00000  2536448   \n",
       "\n",
       "       item_id  \n",
       "21186   102190  \n",
       "24772   114130  \n",
       "67542   204982  \n",
       "14218    71057  \n",
       "19619    96456  \n",
       "...        ...  \n",
       "62698   195275  \n",
       "73880   217755  \n",
       "64291   198467  \n",
       "46095   161906  \n",
       "82745   235485  \n",
       "\n",
       "[352 rows x 6 columns]"
      ]
     },
     "execution_count": 5,
     "metadata": {},
     "output_type": "execute_result"
    }
   ],
   "source": [
    "df_metadata_updated[df_metadata_updated.duplicated(['title'], keep = False)].sort_values(by=\"title\")"
   ]
  },
  {
   "cell_type": "code",
   "execution_count": 51,
   "metadata": {},
   "outputs": [
    {
     "data": {
      "text/html": [
       "<div>\n",
       "<style scoped>\n",
       "    .dataframe tbody tr th:only-of-type {\n",
       "        vertical-align: middle;\n",
       "    }\n",
       "\n",
       "    .dataframe tbody tr th {\n",
       "        vertical-align: top;\n",
       "    }\n",
       "\n",
       "    .dataframe thead th {\n",
       "        text-align: right;\n",
       "    }\n",
       "</style>\n",
       "<table border=\"1\" class=\"dataframe\">\n",
       "  <thead>\n",
       "    <tr style=\"text-align: right;\">\n",
       "      <th></th>\n",
       "      <th>title</th>\n",
       "      <th>directedBy</th>\n",
       "      <th>starring</th>\n",
       "      <th>avgRating</th>\n",
       "      <th>imdbId</th>\n",
       "      <th>item_id</th>\n",
       "      <th>Title</th>\n",
       "      <th>Year</th>\n",
       "    </tr>\n",
       "  </thead>\n",
       "  <tbody>\n",
       "    <tr>\n",
       "      <th>22740</th>\n",
       "      <td>Diplomatic Immunity (2009– )</td>\n",
       "      <td>Murray Keane, Simon Bennett</td>\n",
       "      <td>David Fane, Craig Parker, Lesley-Ann Brandt</td>\n",
       "      <td>5.00000</td>\n",
       "      <td>1450364</td>\n",
       "      <td>107434</td>\n",
       "      <td>Diplomatic Immunity (2009– )</td>\n",
       "      <td>None</td>\n",
       "    </tr>\n",
       "    <tr>\n",
       "      <th>50951</th>\n",
       "      <td>Death Note: Desu nôto (2006–2007)</td>\n",
       "      <td>NaN</td>\n",
       "      <td>NaN</td>\n",
       "      <td>4.06232</td>\n",
       "      <td>877057</td>\n",
       "      <td>171749</td>\n",
       "      <td>Death Note: Desu nôto (2006–2007)</td>\n",
       "      <td>None</td>\n",
       "    </tr>\n",
       "  </tbody>\n",
       "</table>\n",
       "</div>"
      ],
      "text/plain": [
       "                                   title                   directedBy  \\\n",
       "22740       Diplomatic Immunity (2009– )  Murray Keane, Simon Bennett   \n",
       "50951  Death Note: Desu nôto (2006–2007)                          NaN   \n",
       "\n",
       "                                          starring  avgRating   imdbId  \\\n",
       "22740  David Fane, Craig Parker, Lesley-Ann Brandt    5.00000  1450364   \n",
       "50951                                          NaN    4.06232   877057   \n",
       "\n",
       "       item_id                              Title  Year  \n",
       "22740   107434       Diplomatic Immunity (2009– )  None  \n",
       "50951   171749  Death Note: Desu nôto (2006–2007)  None  "
      ]
     },
     "execution_count": 51,
     "metadata": {},
     "output_type": "execute_result"
    }
   ],
   "source": [
    "# Make a copy of the original df\n",
    "df_metadata = df_metadata_updated\n",
    "\n",
    "# Filter records whose title do not end with '(year)'\n",
    "not_matching = df_metadata[~df_metadata['title'].str.contains(r'\\(\\d{4}\\)')]\n",
    "\n",
    "# Check other records with abnormal ending\n",
    "not_matching[not_matching['title'].str.contains(r'\\(\\d{4}.*\\)')]"
   ]
  },
  {
   "cell_type": "code",
   "execution_count": 52,
   "metadata": {
    "scrolled": false
   },
   "outputs": [
    {
     "data": {
      "text/html": [
       "<div>\n",
       "<style scoped>\n",
       "    .dataframe tbody tr th:only-of-type {\n",
       "        vertical-align: middle;\n",
       "    }\n",
       "\n",
       "    .dataframe tbody tr th {\n",
       "        vertical-align: top;\n",
       "    }\n",
       "\n",
       "    .dataframe thead th {\n",
       "        text-align: right;\n",
       "    }\n",
       "</style>\n",
       "<table border=\"1\" class=\"dataframe\">\n",
       "  <thead>\n",
       "    <tr style=\"text-align: right;\">\n",
       "      <th></th>\n",
       "      <th>Title</th>\n",
       "      <th>Year</th>\n",
       "      <th>title</th>\n",
       "      <th>directedBy</th>\n",
       "      <th>starring</th>\n",
       "      <th>avgRating</th>\n",
       "      <th>imdbId</th>\n",
       "      <th>item_id</th>\n",
       "    </tr>\n",
       "  </thead>\n",
       "  <tbody>\n",
       "    <tr>\n",
       "      <th>0</th>\n",
       "      <td>Toy Story</td>\n",
       "      <td>1995</td>\n",
       "      <td>Toy Story (1995)</td>\n",
       "      <td>John Lasseter</td>\n",
       "      <td>Tim Allen, Tom Hanks, Don Rickles, Jim Varney,...</td>\n",
       "      <td>3.89146</td>\n",
       "      <td>114709</td>\n",
       "      <td>1</td>\n",
       "    </tr>\n",
       "    <tr>\n",
       "      <th>1</th>\n",
       "      <td>Jumanji</td>\n",
       "      <td>1995</td>\n",
       "      <td>Jumanji (1995)</td>\n",
       "      <td>Joe Johnston</td>\n",
       "      <td>Jonathan Hyde, Bradley Pierce, Robin Williams,...</td>\n",
       "      <td>3.26605</td>\n",
       "      <td>113497</td>\n",
       "      <td>2</td>\n",
       "    </tr>\n",
       "    <tr>\n",
       "      <th>2</th>\n",
       "      <td>Grumpier Old Men</td>\n",
       "      <td>1995</td>\n",
       "      <td>Grumpier Old Men (1995)</td>\n",
       "      <td>Howard Deutch</td>\n",
       "      <td>Jack Lemmon, Walter Matthau, Ann-Margret , Sop...</td>\n",
       "      <td>3.17146</td>\n",
       "      <td>113228</td>\n",
       "      <td>3</td>\n",
       "    </tr>\n",
       "    <tr>\n",
       "      <th>3</th>\n",
       "      <td>Waiting to Exhale</td>\n",
       "      <td>1995</td>\n",
       "      <td>Waiting to Exhale (1995)</td>\n",
       "      <td>Forest Whitaker</td>\n",
       "      <td>Angela Bassett, Loretta Devine, Whitney Housto...</td>\n",
       "      <td>2.86824</td>\n",
       "      <td>114885</td>\n",
       "      <td>4</td>\n",
       "    </tr>\n",
       "    <tr>\n",
       "      <th>4</th>\n",
       "      <td>Father of the Bride Part II</td>\n",
       "      <td>1995</td>\n",
       "      <td>Father of the Bride Part II (1995)</td>\n",
       "      <td>Charles Shyer</td>\n",
       "      <td>Steve Martin, Martin Short, Diane Keaton, Kimb...</td>\n",
       "      <td>3.07620</td>\n",
       "      <td>113041</td>\n",
       "      <td>5</td>\n",
       "    </tr>\n",
       "  </tbody>\n",
       "</table>\n",
       "</div>"
      ],
      "text/plain": [
       "                          Title  Year                               title  \\\n",
       "0                    Toy Story   1995                    Toy Story (1995)   \n",
       "1                      Jumanji   1995                      Jumanji (1995)   \n",
       "2             Grumpier Old Men   1995             Grumpier Old Men (1995)   \n",
       "3            Waiting to Exhale   1995            Waiting to Exhale (1995)   \n",
       "4  Father of the Bride Part II   1995  Father of the Bride Part II (1995)   \n",
       "\n",
       "        directedBy                                           starring  \\\n",
       "0    John Lasseter  Tim Allen, Tom Hanks, Don Rickles, Jim Varney,...   \n",
       "1     Joe Johnston  Jonathan Hyde, Bradley Pierce, Robin Williams,...   \n",
       "2    Howard Deutch  Jack Lemmon, Walter Matthau, Ann-Margret , Sop...   \n",
       "3  Forest Whitaker  Angela Bassett, Loretta Devine, Whitney Housto...   \n",
       "4    Charles Shyer  Steve Martin, Martin Short, Diane Keaton, Kimb...   \n",
       "\n",
       "   avgRating  imdbId  item_id  \n",
       "0    3.89146  114709        1  \n",
       "1    3.26605  113497        2  \n",
       "2    3.17146  113228        3  \n",
       "3    2.86824  114885        4  \n",
       "4    3.07620  113041        5  "
      ]
     },
     "execution_count": 52,
     "metadata": {},
     "output_type": "execute_result"
    }
   ],
   "source": [
    "# Split the 'title' column into two columns\n",
    "condition = df_metadata['title'].str.contains(r'\\(\\d{4}\\)')\n",
    "df_metadata['Title'] = np.where(condition, df_metadata['title'].str.rsplit('(', n =1).str[0], df_metadata['title'])\n",
    "df_metadata['Year'] = np.where(condition, df_metadata['title'].str.rsplit('(', n =1).str[1].str[:-1], None)\n",
    "\n",
    "# Reorder the columns, move the last two columns to the front\n",
    "column_names = df_metadata.columns\n",
    "df_metadata = df_metadata[column_names[-2:].append(column_names[:-2])]\n",
    "df_metadata.head()"
   ]
  },
  {
   "cell_type": "markdown",
   "metadata": {},
   "source": [
    "#### 3.1.3 metadata - starring"
   ]
  },
  {
   "cell_type": "code",
   "execution_count": 54,
   "metadata": {
    "scrolled": true
   },
   "outputs": [
    {
     "data": {
      "text/html": [
       "<div>\n",
       "<style scoped>\n",
       "    .dataframe tbody tr th:only-of-type {\n",
       "        vertical-align: middle;\n",
       "    }\n",
       "\n",
       "    .dataframe tbody tr th {\n",
       "        vertical-align: top;\n",
       "    }\n",
       "\n",
       "    .dataframe thead th {\n",
       "        text-align: right;\n",
       "    }\n",
       "</style>\n",
       "<table border=\"1\" class=\"dataframe\">\n",
       "  <thead>\n",
       "    <tr style=\"text-align: right;\">\n",
       "      <th></th>\n",
       "      <th>Title</th>\n",
       "      <th>Year</th>\n",
       "      <th>title</th>\n",
       "      <th>directedBy</th>\n",
       "      <th>starring</th>\n",
       "      <th>avgRating</th>\n",
       "      <th>imdbId</th>\n",
       "      <th>item_id</th>\n",
       "      <th>num_starring</th>\n",
       "    </tr>\n",
       "  </thead>\n",
       "  <tbody>\n",
       "    <tr>\n",
       "      <th>0</th>\n",
       "      <td>Toy Story</td>\n",
       "      <td>1995</td>\n",
       "      <td>Toy Story (1995)</td>\n",
       "      <td>John Lasseter</td>\n",
       "      <td>[Tim Allen, Tom Hanks, Don Rickles, Jim Varney...</td>\n",
       "      <td>3.89146</td>\n",
       "      <td>114709</td>\n",
       "      <td>1</td>\n",
       "      <td>10</td>\n",
       "    </tr>\n",
       "    <tr>\n",
       "      <th>1</th>\n",
       "      <td>Jumanji</td>\n",
       "      <td>1995</td>\n",
       "      <td>Jumanji (1995)</td>\n",
       "      <td>Joe Johnston</td>\n",
       "      <td>[Jonathan Hyde, Bradley Pierce, Robin Williams...</td>\n",
       "      <td>3.26605</td>\n",
       "      <td>113497</td>\n",
       "      <td>2</td>\n",
       "      <td>4</td>\n",
       "    </tr>\n",
       "    <tr>\n",
       "      <th>2</th>\n",
       "      <td>Grumpier Old Men</td>\n",
       "      <td>1995</td>\n",
       "      <td>Grumpier Old Men (1995)</td>\n",
       "      <td>Howard Deutch</td>\n",
       "      <td>[Jack Lemmon, Walter Matthau, Ann-Margret , So...</td>\n",
       "      <td>3.17146</td>\n",
       "      <td>113228</td>\n",
       "      <td>3</td>\n",
       "      <td>4</td>\n",
       "    </tr>\n",
       "    <tr>\n",
       "      <th>3</th>\n",
       "      <td>Waiting to Exhale</td>\n",
       "      <td>1995</td>\n",
       "      <td>Waiting to Exhale (1995)</td>\n",
       "      <td>Forest Whitaker</td>\n",
       "      <td>[Angela Bassett, Loretta Devine, Whitney Houst...</td>\n",
       "      <td>2.86824</td>\n",
       "      <td>114885</td>\n",
       "      <td>4</td>\n",
       "      <td>4</td>\n",
       "    </tr>\n",
       "    <tr>\n",
       "      <th>4</th>\n",
       "      <td>Father of the Bride Part II</td>\n",
       "      <td>1995</td>\n",
       "      <td>Father of the Bride Part II (1995)</td>\n",
       "      <td>Charles Shyer</td>\n",
       "      <td>[Steve Martin, Martin Short, Diane Keaton, Kim...</td>\n",
       "      <td>3.07620</td>\n",
       "      <td>113041</td>\n",
       "      <td>5</td>\n",
       "      <td>6</td>\n",
       "    </tr>\n",
       "  </tbody>\n",
       "</table>\n",
       "</div>"
      ],
      "text/plain": [
       "                          Title  Year                               title  \\\n",
       "0                    Toy Story   1995                    Toy Story (1995)   \n",
       "1                      Jumanji   1995                      Jumanji (1995)   \n",
       "2             Grumpier Old Men   1995             Grumpier Old Men (1995)   \n",
       "3            Waiting to Exhale   1995            Waiting to Exhale (1995)   \n",
       "4  Father of the Bride Part II   1995  Father of the Bride Part II (1995)   \n",
       "\n",
       "        directedBy                                           starring  \\\n",
       "0    John Lasseter  [Tim Allen, Tom Hanks, Don Rickles, Jim Varney...   \n",
       "1     Joe Johnston  [Jonathan Hyde, Bradley Pierce, Robin Williams...   \n",
       "2    Howard Deutch  [Jack Lemmon, Walter Matthau, Ann-Margret , So...   \n",
       "3  Forest Whitaker  [Angela Bassett, Loretta Devine, Whitney Houst...   \n",
       "4    Charles Shyer  [Steve Martin, Martin Short, Diane Keaton, Kim...   \n",
       "\n",
       "   avgRating  imdbId  item_id  num_starring  \n",
       "0    3.89146  114709        1            10  \n",
       "1    3.26605  113497        2             4  \n",
       "2    3.17146  113228        3             4  \n",
       "3    2.86824  114885        4             4  \n",
       "4    3.07620  113041        5             6  "
      ]
     },
     "execution_count": 54,
     "metadata": {},
     "output_type": "execute_result"
    }
   ],
   "source": [
    "# Convert the 'starring' column of strings into lists of strings\n",
    "df_metadata['starring'] = df_metadata['starring'].apply(lambda x: x.split(', ') if pd.notnull(x) else [])\n",
    "\n",
    "# Count the length of 'starring' column\n",
    "df_metadata['num_starring'] = df_metadata['starring'].apply(lambda x: len(x))\n",
    "df_metadata.head()"
   ]
  },
  {
   "cell_type": "code",
   "execution_count": 57,
   "metadata": {
    "scrolled": true
   },
   "outputs": [
    {
     "data": {
      "text/plain": [
       "count    84661.000000\n",
       "mean         2.106909\n",
       "std          2.728825\n",
       "min          0.000000\n",
       "25%          1.000000\n",
       "50%          1.000000\n",
       "75%          3.000000\n",
       "max         70.000000\n",
       "Name: num_starring, dtype: float64"
      ]
     },
     "execution_count": 57,
     "metadata": {},
     "output_type": "execute_result"
    }
   ],
   "source": [
    "df_metadata['num_starring'].describe()"
   ]
  },
  {
   "cell_type": "code",
   "execution_count": 83,
   "metadata": {},
   "outputs": [
    {
     "data": {
      "image/png": "[encoded data removed]",
      "text/plain": [
       "<Figure size 1000x600 with 2 Axes>"
      ]
     },
     "metadata": {},
     "output_type": "display_data"
    }
   ],
   "source": [
    "# Plot the distribution of 'num_starring' with a boxplot and a histogram \n",
    "# Create a figure and axes for subplots\n",
    "fig, (ax_boxplot, ax_hist) = plt.subplots(1, 2, figsize=(10, 6), gridspec_kw={'width_ratios': [1, 3]})\n",
    "\n",
    "# Plot the boxplot on the left\n",
    "df_metadata.boxplot(column='num_starring', ax=ax_boxplot)\n",
    "ax_boxplot.set_ylabel('num_starring')\n",
    "\n",
    "# Plot the histogram on the right\n",
    "df_metadata['num_starring'].plot(kind='hist', ax=ax_hist)\n",
    "ax_hist.set_xlabel('num_starring')\n",
    "ax_hist.set_ylabel('Frequency')\n",
    "\n",
    "# Set the title for the overall plot\n",
    "plt.suptitle('Distribution of num_starring')\n",
    "\n",
    "# Adjust spacing between subplots\n",
    "plt.tight_layout()\n",
    "\n",
    "# Show the plot\n",
    "plt.show()"
   ]
  },
  {
   "cell_type": "markdown",
   "metadata": {},
   "source": [
    "###  3.2 tags  and tag_count          "
   ]
  },
  {
   "cell_type": "code",
   "execution_count": 95,
   "metadata": {},
   "outputs": [
    {
     "data": {
      "text/html": [
       "<div>\n",
       "<style scoped>\n",
       "    .dataframe tbody tr th:only-of-type {\n",
       "        vertical-align: middle;\n",
       "    }\n",
       "\n",
       "    .dataframe tbody tr th {\n",
       "        vertical-align: top;\n",
       "    }\n",
       "\n",
       "    .dataframe thead th {\n",
       "        text-align: right;\n",
       "    }\n",
       "</style>\n",
       "<table border=\"1\" class=\"dataframe\">\n",
       "  <thead>\n",
       "    <tr style=\"text-align: right;\">\n",
       "      <th></th>\n",
       "      <th>tag</th>\n",
       "      <th>id</th>\n",
       "    </tr>\n",
       "  </thead>\n",
       "  <tbody>\n",
       "    <tr>\n",
       "      <th>0</th>\n",
       "      <td>aardman</td>\n",
       "      <td>22</td>\n",
       "    </tr>\n",
       "    <tr>\n",
       "      <th>1</th>\n",
       "      <td>secret service</td>\n",
       "      <td>112</td>\n",
       "    </tr>\n",
       "    <tr>\n",
       "      <th>2</th>\n",
       "      <td>hillarious</td>\n",
       "      <td>167</td>\n",
       "    </tr>\n",
       "    <tr>\n",
       "      <th>3</th>\n",
       "      <td>christian</td>\n",
       "      <td>270</td>\n",
       "    </tr>\n",
       "    <tr>\n",
       "      <th>4</th>\n",
       "      <td>mummy</td>\n",
       "      <td>362</td>\n",
       "    </tr>\n",
       "  </tbody>\n",
       "</table>\n",
       "</div>"
      ],
      "text/plain": [
       "              tag   id\n",
       "0         aardman   22\n",
       "1  secret service  112\n",
       "2      hillarious  167\n",
       "3       christian  270\n",
       "4           mummy  362"
      ]
     },
     "execution_count": 95,
     "metadata": {},
     "output_type": "execute_result"
    }
   ],
   "source": [
    "df_tags.head()"
   ]
  },
  {
   "cell_type": "code",
   "execution_count": 96,
   "metadata": {},
   "outputs": [
    {
     "data": {
      "text/html": [
       "<div>\n",
       "<style scoped>\n",
       "    .dataframe tbody tr th:only-of-type {\n",
       "        vertical-align: middle;\n",
       "    }\n",
       "\n",
       "    .dataframe tbody tr th {\n",
       "        vertical-align: top;\n",
       "    }\n",
       "\n",
       "    .dataframe thead th {\n",
       "        text-align: right;\n",
       "    }\n",
       "</style>\n",
       "<table border=\"1\" class=\"dataframe\">\n",
       "  <thead>\n",
       "    <tr style=\"text-align: right;\">\n",
       "      <th></th>\n",
       "      <th>item_id</th>\n",
       "      <th>tag_id</th>\n",
       "      <th>num</th>\n",
       "    </tr>\n",
       "  </thead>\n",
       "  <tbody>\n",
       "    <tr>\n",
       "      <th>0</th>\n",
       "      <td>1</td>\n",
       "      <td>86963</td>\n",
       "      <td>4</td>\n",
       "    </tr>\n",
       "    <tr>\n",
       "      <th>1</th>\n",
       "      <td>1</td>\n",
       "      <td>42940</td>\n",
       "      <td>1</td>\n",
       "    </tr>\n",
       "    <tr>\n",
       "      <th>2</th>\n",
       "      <td>1</td>\n",
       "      <td>37116</td>\n",
       "      <td>26</td>\n",
       "    </tr>\n",
       "    <tr>\n",
       "      <th>3</th>\n",
       "      <td>1</td>\n",
       "      <td>52206</td>\n",
       "      <td>1</td>\n",
       "    </tr>\n",
       "    <tr>\n",
       "      <th>4</th>\n",
       "      <td>1</td>\n",
       "      <td>34442</td>\n",
       "      <td>21</td>\n",
       "    </tr>\n",
       "  </tbody>\n",
       "</table>\n",
       "</div>"
      ],
      "text/plain": [
       "   item_id  tag_id  num\n",
       "0        1   86963    4\n",
       "1        1   42940    1\n",
       "2        1   37116   26\n",
       "3        1   52206    1\n",
       "4        1   34442   21"
      ]
     },
     "execution_count": 96,
     "metadata": {},
     "output_type": "execute_result"
    }
   ],
   "source": [
    "df_tag_count.head()"
   ]
  },
  {
   "cell_type": "markdown",
   "metadata": {},
   "source": [
    "*'num'* coulmn shows the numbers of times users have attached the tag to the movie.\n",
    "\n",
    "These two dfs share one column: *df_tags.id = df_tag_count.tag_id*, so we can join them together."
   ]
  },
  {
   "cell_type": "code",
   "execution_count": 121,
   "metadata": {
    "scrolled": true
   },
   "outputs": [
    {
     "data": {
      "text/html": [
       "<div>\n",
       "<style scoped>\n",
       "    .dataframe tbody tr th:only-of-type {\n",
       "        vertical-align: middle;\n",
       "    }\n",
       "\n",
       "    .dataframe tbody tr th {\n",
       "        vertical-align: top;\n",
       "    }\n",
       "\n",
       "    .dataframe thead th {\n",
       "        text-align: right;\n",
       "    }\n",
       "</style>\n",
       "<table border=\"1\" class=\"dataframe\">\n",
       "  <thead>\n",
       "    <tr style=\"text-align: right;\">\n",
       "      <th></th>\n",
       "      <th>item_id</th>\n",
       "      <th>tag</th>\n",
       "      <th>tag_id</th>\n",
       "      <th>num</th>\n",
       "    </tr>\n",
       "  </thead>\n",
       "  <tbody>\n",
       "    <tr>\n",
       "      <th>177747</th>\n",
       "      <td>1</td>\n",
       "      <td>cgi</td>\n",
       "      <td>87523</td>\n",
       "      <td>11</td>\n",
       "    </tr>\n",
       "    <tr>\n",
       "      <th>105973</th>\n",
       "      <td>1</td>\n",
       "      <td>disney animated feature</td>\n",
       "      <td>53486</td>\n",
       "      <td>1</td>\n",
       "    </tr>\n",
       "    <tr>\n",
       "      <th>84523</th>\n",
       "      <td>1</td>\n",
       "      <td>action</td>\n",
       "      <td>42940</td>\n",
       "      <td>1</td>\n",
       "    </tr>\n",
       "    <tr>\n",
       "      <th>77199</th>\n",
       "      <td>1</td>\n",
       "      <td>adventure</td>\n",
       "      <td>37116</td>\n",
       "      <td>26</td>\n",
       "    </tr>\n",
       "    <tr>\n",
       "      <th>201050</th>\n",
       "      <td>1</td>\n",
       "      <td>depression</td>\n",
       "      <td>102837</td>\n",
       "      <td>1</td>\n",
       "    </tr>\n",
       "    <tr>\n",
       "      <th>...</th>\n",
       "      <td>...</td>\n",
       "      <td>...</td>\n",
       "      <td>...</td>\n",
       "      <td>...</td>\n",
       "    </tr>\n",
       "    <tr>\n",
       "      <th>105564</th>\n",
       "      <td>239042</td>\n",
       "      <td>visually appealing</td>\n",
       "      <td>53302</td>\n",
       "      <td>1</td>\n",
       "    </tr>\n",
       "    <tr>\n",
       "      <th>105058</th>\n",
       "      <td>239044</td>\n",
       "      <td>religion</td>\n",
       "      <td>52817</td>\n",
       "      <td>1</td>\n",
       "    </tr>\n",
       "    <tr>\n",
       "      <th>92965</th>\n",
       "      <td>239044</td>\n",
       "      <td>jews</td>\n",
       "      <td>46718</td>\n",
       "      <td>1</td>\n",
       "    </tr>\n",
       "    <tr>\n",
       "      <th>100698</th>\n",
       "      <td>239044</td>\n",
       "      <td>jewish</td>\n",
       "      <td>51676</td>\n",
       "      <td>1</td>\n",
       "    </tr>\n",
       "    <tr>\n",
       "      <th>19903</th>\n",
       "      <td>239044</td>\n",
       "      <td>coming of age</td>\n",
       "      <td>9953</td>\n",
       "      <td>1</td>\n",
       "    </tr>\n",
       "  </tbody>\n",
       "</table>\n",
       "<p>212704 rows × 4 columns</p>\n",
       "</div>"
      ],
      "text/plain": [
       "        item_id                      tag  tag_id  num\n",
       "177747        1                      cgi   87523   11\n",
       "105973        1  disney animated feature   53486    1\n",
       "84523         1                   action   42940    1\n",
       "77199         1                adventure   37116   26\n",
       "201050        1               depression  102837    1\n",
       "...         ...                      ...     ...  ...\n",
       "105564   239042       visually appealing   53302    1\n",
       "105058   239044                 religion   52817    1\n",
       "92965    239044                     jews   46718    1\n",
       "100698   239044                   jewish   51676    1\n",
       "19903    239044            coming of age    9953    1\n",
       "\n",
       "[212704 rows x 4 columns]"
      ]
     },
     "execution_count": 121,
     "metadata": {},
     "output_type": "execute_result"
    }
   ],
   "source": [
    "# Perform inner join on different column names\n",
    "df_tags_comb = pd.merge(df_tags, df_tag_count, left_on='id', right_on='tag_id')\n",
    "\n",
    "# Check whether joined df include all records from tag_count\n",
    "assert df_tags_comb.shape[0] == df_tag_count.shape[0], \"Inner join missed records.\"\n",
    "\n",
    "# Reorder columns \n",
    "df_tags_comb = df_tags_comb[['item_id', 'tag', 'tag_id', 'num']]\n",
    "df_tags_comb.sort_values('item_id')"
   ]
  },
  {
   "cell_type": "markdown",
   "metadata": {},
   "source": [
    "Each movie have multiple tags belongs to it, which inspires us to group by 'item_id'."
   ]
  },
  {
   "cell_type": "code",
   "execution_count": 150,
   "metadata": {},
   "outputs": [
    {
     "data": {
      "text/html": [
       "<div>\n",
       "<style scoped>\n",
       "    .dataframe tbody tr th:only-of-type {\n",
       "        vertical-align: middle;\n",
       "    }\n",
       "\n",
       "    .dataframe tbody tr th {\n",
       "        vertical-align: top;\n",
       "    }\n",
       "\n",
       "    .dataframe thead th {\n",
       "        text-align: right;\n",
       "    }\n",
       "</style>\n",
       "<table border=\"1\" class=\"dataframe\">\n",
       "  <thead>\n",
       "    <tr style=\"text-align: right;\">\n",
       "      <th></th>\n",
       "      <th>item_id</th>\n",
       "      <th>tag_id_list</th>\n",
       "    </tr>\n",
       "  </thead>\n",
       "  <tbody>\n",
       "    <tr>\n",
       "      <th>0</th>\n",
       "      <td>1</td>\n",
       "      <td>[2688, 3668, 6384, 6859, 7892, 9083, 10736, 14...</td>\n",
       "    </tr>\n",
       "    <tr>\n",
       "      <th>1</th>\n",
       "      <td>2</td>\n",
       "      <td>[6384, 14267, 21285, 37108, 37116, 43498, 5520...</td>\n",
       "    </tr>\n",
       "    <tr>\n",
       "      <th>2</th>\n",
       "      <td>3</td>\n",
       "      <td>[26615, 28911, 37108, 60591, 103499]</td>\n",
       "    </tr>\n",
       "    <tr>\n",
       "      <th>3</th>\n",
       "      <td>4</td>\n",
       "      <td>[48211, 57872, 66988]</td>\n",
       "    </tr>\n",
       "    <tr>\n",
       "      <th>4</th>\n",
       "      <td>5</td>\n",
       "      <td>[11463, 15693, 26615, 37108, 39030, 61242, 728...</td>\n",
       "    </tr>\n",
       "  </tbody>\n",
       "</table>\n",
       "</div>"
      ],
      "text/plain": [
       "   item_id                                        tag_id_list\n",
       "0        1  [2688, 3668, 6384, 6859, 7892, 9083, 10736, 14...\n",
       "1        2  [6384, 14267, 21285, 37108, 37116, 43498, 5520...\n",
       "2        3               [26615, 28911, 37108, 60591, 103499]\n",
       "3        4                              [48211, 57872, 66988]\n",
       "4        5  [11463, 15693, 26615, 37108, 39030, 61242, 728..."
      ]
     },
     "execution_count": 150,
     "metadata": {},
     "output_type": "execute_result"
    }
   ],
   "source": [
    "# Group by 'item_id' and create a list of 'tag_id' values within each group\n",
    "series_tags_of_item = df_tags_comb.groupby('item_id').apply(lambda x: x['tag_id'].values.tolist())\n",
    "# Convert the grouped data to a DataFrame\n",
    "df_tags_of_item = pd.DataFrame(grouped_df, columns=['tag_id_list']).reset_index()\n",
    "df_tags_of_item.head()"
   ]
  },
  {
   "cell_type": "code",
   "execution_count": 118,
   "metadata": {},
   "outputs": [
    {
     "name": "stdout",
     "output_type": "stream",
     "text": [
      "Total number of tags:  1094\n",
      "Total number of movies:  84661\n",
      "Number of tagged movies:  39685   0.4687518455959651\n"
     ]
    }
   ],
   "source": [
    "print('Total number of tags: ', df_tags_comb['tag'].nunique())\n",
    "print('Total number of movies: ', df_metadata['item_id'].nunique())\n",
    "print('Number of tagged movies: ', df_tags_comb['item_id'].nunique(), ' ', df_tags_comb['item_id'].nunique()/df_metadata['item_id'].nunique())"
   ]
  },
  {
   "cell_type": "markdown",
   "metadata": {},
   "source": [
    "Approximately half of the movies have been tagged. Tagged movies appear to be more popular than untagged ones, prompting us to think about the extent of overlap between tagged movies, rated movies, and reviewed movies."
   ]
  },
  {
   "cell_type": "code",
   "execution_count": 123,
   "metadata": {
    "scrolled": true
   },
   "outputs": [
    {
     "data": {
      "text/plain": [
       "count    212704.000000\n",
       "mean          3.915751\n",
       "std          11.569772\n",
       "min           1.000000\n",
       "25%           1.000000\n",
       "50%           1.000000\n",
       "75%           2.000000\n",
       "max        1117.000000\n",
       "Name: num, dtype: float64"
      ]
     },
     "execution_count": 123,
     "metadata": {},
     "output_type": "execute_result"
    }
   ],
   "source": [
    "df_tags_comb['num'].describe()"
   ]
  },
  {
   "cell_type": "markdown",
   "metadata": {},
   "source": [
    "Max: 1117 is unexcepted large so let's draw a box plot of *'num'* to get a clear view of its distribution."
   ]
  },
  {
   "cell_type": "code",
   "execution_count": 129,
   "metadata": {
    "scrolled": true
   },
   "outputs": [
    {
     "data": {
      "image/png": "[encoded data removed]",
      "text/plain": [
       "<Figure size 640x480 with 1 Axes>"
      ]
     },
     "metadata": {},
     "output_type": "display_data"
    }
   ],
   "source": [
    "df_tags_comb['num'].plot(kind = 'box')\n",
    "plt.title('Histogram of num')\n",
    "plt.show()"
   ]
  },
  {
   "cell_type": "code",
   "execution_count": 151,
   "metadata": {},
   "outputs": [
    {
     "data": {
      "text/html": [
       "<div>\n",
       "<style scoped>\n",
       "    .dataframe tbody tr th:only-of-type {\n",
       "        vertical-align: middle;\n",
       "    }\n",
       "\n",
       "    .dataframe tbody tr th {\n",
       "        vertical-align: top;\n",
       "    }\n",
       "\n",
       "    .dataframe thead th {\n",
       "        text-align: right;\n",
       "    }\n",
       "</style>\n",
       "<table border=\"1\" class=\"dataframe\">\n",
       "  <thead>\n",
       "    <tr style=\"text-align: right;\">\n",
       "      <th></th>\n",
       "      <th>Title</th>\n",
       "      <th>Year</th>\n",
       "      <th>title</th>\n",
       "      <th>directedBy</th>\n",
       "      <th>starring</th>\n",
       "      <th>avgRating</th>\n",
       "      <th>imdbId</th>\n",
       "      <th>item_id</th>\n",
       "      <th>num_starring</th>\n",
       "      <th>tag_id_list</th>\n",
       "    </tr>\n",
       "  </thead>\n",
       "  <tbody>\n",
       "    <tr>\n",
       "      <th>0</th>\n",
       "      <td>Toy Story</td>\n",
       "      <td>1995</td>\n",
       "      <td>Toy Story (1995)</td>\n",
       "      <td>John Lasseter</td>\n",
       "      <td>[Tim Allen, Tom Hanks, Don Rickles, Jim Varney...</td>\n",
       "      <td>3.89146</td>\n",
       "      <td>114709</td>\n",
       "      <td>1</td>\n",
       "      <td>10</td>\n",
       "      <td>[2688, 3668, 6384, 6859, 7892, 9083, 10736, 14...</td>\n",
       "    </tr>\n",
       "    <tr>\n",
       "      <th>1</th>\n",
       "      <td>Jumanji</td>\n",
       "      <td>1995</td>\n",
       "      <td>Jumanji (1995)</td>\n",
       "      <td>Joe Johnston</td>\n",
       "      <td>[Jonathan Hyde, Bradley Pierce, Robin Williams...</td>\n",
       "      <td>3.26605</td>\n",
       "      <td>113497</td>\n",
       "      <td>2</td>\n",
       "      <td>4</td>\n",
       "      <td>[6384, 14267, 21285, 37108, 37116, 43498, 5520...</td>\n",
       "    </tr>\n",
       "    <tr>\n",
       "      <th>2</th>\n",
       "      <td>Grumpier Old Men</td>\n",
       "      <td>1995</td>\n",
       "      <td>Grumpier Old Men (1995)</td>\n",
       "      <td>Howard Deutch</td>\n",
       "      <td>[Jack Lemmon, Walter Matthau, Ann-Margret , So...</td>\n",
       "      <td>3.17146</td>\n",
       "      <td>113228</td>\n",
       "      <td>3</td>\n",
       "      <td>4</td>\n",
       "      <td>[26615, 28911, 37108, 60591, 103499]</td>\n",
       "    </tr>\n",
       "    <tr>\n",
       "      <th>3</th>\n",
       "      <td>Waiting to Exhale</td>\n",
       "      <td>1995</td>\n",
       "      <td>Waiting to Exhale (1995)</td>\n",
       "      <td>Forest Whitaker</td>\n",
       "      <td>[Angela Bassett, Loretta Devine, Whitney Houst...</td>\n",
       "      <td>2.86824</td>\n",
       "      <td>114885</td>\n",
       "      <td>4</td>\n",
       "      <td>4</td>\n",
       "      <td>[48211, 57872, 66988]</td>\n",
       "    </tr>\n",
       "    <tr>\n",
       "      <th>4</th>\n",
       "      <td>Father of the Bride Part II</td>\n",
       "      <td>1995</td>\n",
       "      <td>Father of the Bride Part II (1995)</td>\n",
       "      <td>Charles Shyer</td>\n",
       "      <td>[Steve Martin, Martin Short, Diane Keaton, Kim...</td>\n",
       "      <td>3.07620</td>\n",
       "      <td>113041</td>\n",
       "      <td>5</td>\n",
       "      <td>6</td>\n",
       "      <td>[11463, 15693, 26615, 37108, 39030, 61242, 728...</td>\n",
       "    </tr>\n",
       "  </tbody>\n",
       "</table>\n",
       "</div>"
      ],
      "text/plain": [
       "                          Title  Year                               title  \\\n",
       "0                    Toy Story   1995                    Toy Story (1995)   \n",
       "1                      Jumanji   1995                      Jumanji (1995)   \n",
       "2             Grumpier Old Men   1995             Grumpier Old Men (1995)   \n",
       "3            Waiting to Exhale   1995            Waiting to Exhale (1995)   \n",
       "4  Father of the Bride Part II   1995  Father of the Bride Part II (1995)   \n",
       "\n",
       "        directedBy                                           starring  \\\n",
       "0    John Lasseter  [Tim Allen, Tom Hanks, Don Rickles, Jim Varney...   \n",
       "1     Joe Johnston  [Jonathan Hyde, Bradley Pierce, Robin Williams...   \n",
       "2    Howard Deutch  [Jack Lemmon, Walter Matthau, Ann-Margret , So...   \n",
       "3  Forest Whitaker  [Angela Bassett, Loretta Devine, Whitney Houst...   \n",
       "4    Charles Shyer  [Steve Martin, Martin Short, Diane Keaton, Kim...   \n",
       "\n",
       "   avgRating  imdbId  item_id  num_starring  \\\n",
       "0    3.89146  114709        1            10   \n",
       "1    3.26605  113497        2             4   \n",
       "2    3.17146  113228        3             4   \n",
       "3    2.86824  114885        4             4   \n",
       "4    3.07620  113041        5             6   \n",
       "\n",
       "                                         tag_id_list  \n",
       "0  [2688, 3668, 6384, 6859, 7892, 9083, 10736, 14...  \n",
       "1  [6384, 14267, 21285, 37108, 37116, 43498, 5520...  \n",
       "2               [26615, 28911, 37108, 60591, 103499]  \n",
       "3                              [48211, 57872, 66988]  \n",
       "4  [11463, 15693, 26615, 37108, 39030, 61242, 728...  "
      ]
     },
     "execution_count": 151,
     "metadata": {},
     "output_type": "execute_result"
    }
   ],
   "source": [
    "# Combine metadata and tag_comb dfs \n",
    "df_movies_with_tags = pd.merge(df_metadata, df_tags_of_item, how='left', on='item_id')\n",
    "df_movies_with_tags.head()"
   ]
  },
  {
   "cell_type": "markdown",
   "metadata": {},
   "source": [
    "### 3.3 survey_answers "
   ]
  },
  {
   "cell_type": "code",
   "execution_count": 159,
   "metadata": {
    "scrolled": true
   },
   "outputs": [
    {
     "data": {
      "text/html": [
       "<div>\n",
       "<style scoped>\n",
       "    .dataframe tbody tr th:only-of-type {\n",
       "        vertical-align: middle;\n",
       "    }\n",
       "\n",
       "    .dataframe tbody tr th {\n",
       "        vertical-align: top;\n",
       "    }\n",
       "\n",
       "    .dataframe thead th {\n",
       "        text-align: right;\n",
       "    }\n",
       "</style>\n",
       "<table border=\"1\" class=\"dataframe\">\n",
       "  <thead>\n",
       "    <tr style=\"text-align: right;\">\n",
       "      <th></th>\n",
       "      <th>user_id</th>\n",
       "      <th>item_id</th>\n",
       "      <th>tag_id</th>\n",
       "      <th>score</th>\n",
       "    </tr>\n",
       "  </thead>\n",
       "  <tbody>\n",
       "    <tr>\n",
       "      <th>0</th>\n",
       "      <td>978707</td>\n",
       "      <td>3108</td>\n",
       "      <td>50126</td>\n",
       "      <td>3</td>\n",
       "    </tr>\n",
       "    <tr>\n",
       "      <th>1</th>\n",
       "      <td>978707</td>\n",
       "      <td>2858</td>\n",
       "      <td>50126</td>\n",
       "      <td>1</td>\n",
       "    </tr>\n",
       "    <tr>\n",
       "      <th>2</th>\n",
       "      <td>978707</td>\n",
       "      <td>1269</td>\n",
       "      <td>50126</td>\n",
       "      <td>1</td>\n",
       "    </tr>\n",
       "    <tr>\n",
       "      <th>3</th>\n",
       "      <td>978707</td>\n",
       "      <td>1136</td>\n",
       "      <td>50126</td>\n",
       "      <td>1</td>\n",
       "    </tr>\n",
       "    <tr>\n",
       "      <th>4</th>\n",
       "      <td>978707</td>\n",
       "      <td>1220</td>\n",
       "      <td>50126</td>\n",
       "      <td>1</td>\n",
       "    </tr>\n",
       "  </tbody>\n",
       "</table>\n",
       "</div>"
      ],
      "text/plain": [
       "   user_id  item_id  tag_id  score\n",
       "0   978707     3108   50126      3\n",
       "1   978707     2858   50126      1\n",
       "2   978707     1269   50126      1\n",
       "3   978707     1136   50126      1\n",
       "4   978707     1220   50126      1"
      ]
     },
     "execution_count": 159,
     "metadata": {},
     "output_type": "execute_result"
    }
   ],
   "source": [
    "df_survey_answers.head()"
   ]
  },
  {
   "cell_type": "code",
   "execution_count": 168,
   "metadata": {},
   "outputs": [
    {
     "data": {
      "text/html": [
       "<div>\n",
       "<style scoped>\n",
       "    .dataframe tbody tr th:only-of-type {\n",
       "        vertical-align: middle;\n",
       "    }\n",
       "\n",
       "    .dataframe tbody tr th {\n",
       "        vertical-align: top;\n",
       "    }\n",
       "\n",
       "    .dataframe thead th {\n",
       "        text-align: right;\n",
       "    }\n",
       "</style>\n",
       "<table border=\"1\" class=\"dataframe\">\n",
       "  <thead>\n",
       "    <tr style=\"text-align: right;\">\n",
       "      <th></th>\n",
       "      <th>item_id</th>\n",
       "      <th>tag_id</th>\n",
       "      <th>num</th>\n",
       "      <th>user_id</th>\n",
       "      <th>score</th>\n",
       "    </tr>\n",
       "  </thead>\n",
       "  <tbody>\n",
       "    <tr>\n",
       "      <th>0</th>\n",
       "      <td>1</td>\n",
       "      <td>86963</td>\n",
       "      <td>4</td>\n",
       "      <td>820082.0</td>\n",
       "      <td>1.0</td>\n",
       "    </tr>\n",
       "    <tr>\n",
       "      <th>1</th>\n",
       "      <td>1</td>\n",
       "      <td>86963</td>\n",
       "      <td>4</td>\n",
       "      <td>423144.0</td>\n",
       "      <td>2.0</td>\n",
       "    </tr>\n",
       "    <tr>\n",
       "      <th>2</th>\n",
       "      <td>1</td>\n",
       "      <td>86963</td>\n",
       "      <td>4</td>\n",
       "      <td>745878.0</td>\n",
       "      <td>1.0</td>\n",
       "    </tr>\n",
       "    <tr>\n",
       "      <th>3</th>\n",
       "      <td>1</td>\n",
       "      <td>86963</td>\n",
       "      <td>4</td>\n",
       "      <td>997388.0</td>\n",
       "      <td>1.0</td>\n",
       "    </tr>\n",
       "    <tr>\n",
       "      <th>4</th>\n",
       "      <td>1</td>\n",
       "      <td>86963</td>\n",
       "      <td>4</td>\n",
       "      <td>976135.0</td>\n",
       "      <td>5.0</td>\n",
       "    </tr>\n",
       "  </tbody>\n",
       "</table>\n",
       "</div>"
      ],
      "text/plain": [
       "   item_id  tag_id  num   user_id  score\n",
       "0        1   86963    4  820082.0    1.0\n",
       "1        1   86963    4  423144.0    2.0\n",
       "2        1   86963    4  745878.0    1.0\n",
       "3        1   86963    4  997388.0    1.0\n",
       "4        1   86963    4  976135.0    5.0"
      ]
     },
     "execution_count": 168,
     "metadata": {},
     "output_type": "execute_result"
    }
   ],
   "source": [
    "# Merge two dfs on shared columns: 'item_id' and 'tag_id'\n",
    "df_tags_with_scores = pd.merge(df_tag_count, df_survey_answers, how = 'left', on = ['item_id', 'tag_id'])\n",
    "df_tags_with_scores.head()"
   ]
  },
  {
   "cell_type": "code",
   "execution_count": 175,
   "metadata": {},
   "outputs": [
    {
     "name": "stdout",
     "output_type": "stream",
     "text": [
      "Number of unscored tags:  201028   0.9078994313999124\n"
     ]
    }
   ],
   "source": [
    "# Check number of unscored tags\n",
    "print('Number of unscored tags: ', df_tags_with_scores.score.isnull().sum(), ' ', \n",
    "      df_tags_with_scores.score.isnull().sum() / df_tags_with_scores.shape[0])"
   ]
  },
  {
   "cell_type": "markdown",
   "metadata": {},
   "source": [
    "About 90% of tags are not scored, and we also know that about half of the movies are not tagged."
   ]
  },
  {
   "cell_type": "markdown",
   "metadata": {},
   "source": [
    "### 3.4 ratings"
   ]
  },
  {
   "cell_type": "code",
   "execution_count": 176,
   "metadata": {},
   "outputs": [
    {
     "data": {
      "text/html": [
       "<div>\n",
       "<style scoped>\n",
       "    .dataframe tbody tr th:only-of-type {\n",
       "        vertical-align: middle;\n",
       "    }\n",
       "\n",
       "    .dataframe tbody tr th {\n",
       "        vertical-align: top;\n",
       "    }\n",
       "\n",
       "    .dataframe thead th {\n",
       "        text-align: right;\n",
       "    }\n",
       "</style>\n",
       "<table border=\"1\" class=\"dataframe\">\n",
       "  <thead>\n",
       "    <tr style=\"text-align: right;\">\n",
       "      <th></th>\n",
       "      <th>item_id</th>\n",
       "      <th>user_id</th>\n",
       "      <th>rating</th>\n",
       "    </tr>\n",
       "  </thead>\n",
       "  <tbody>\n",
       "    <tr>\n",
       "      <th>0</th>\n",
       "      <td>5</td>\n",
       "      <td>997206</td>\n",
       "      <td>3.0</td>\n",
       "    </tr>\n",
       "    <tr>\n",
       "      <th>1</th>\n",
       "      <td>10</td>\n",
       "      <td>997206</td>\n",
       "      <td>4.0</td>\n",
       "    </tr>\n",
       "    <tr>\n",
       "      <th>2</th>\n",
       "      <td>13</td>\n",
       "      <td>997206</td>\n",
       "      <td>4.0</td>\n",
       "    </tr>\n",
       "    <tr>\n",
       "      <th>3</th>\n",
       "      <td>17</td>\n",
       "      <td>997206</td>\n",
       "      <td>5.0</td>\n",
       "    </tr>\n",
       "    <tr>\n",
       "      <th>4</th>\n",
       "      <td>21</td>\n",
       "      <td>997206</td>\n",
       "      <td>4.0</td>\n",
       "    </tr>\n",
       "    <tr>\n",
       "      <th>...</th>\n",
       "      <td>...</td>\n",
       "      <td>...</td>\n",
       "      <td>...</td>\n",
       "    </tr>\n",
       "    <tr>\n",
       "      <th>28490111</th>\n",
       "      <td>104211</td>\n",
       "      <td>187144</td>\n",
       "      <td>1.5</td>\n",
       "    </tr>\n",
       "    <tr>\n",
       "      <th>28490112</th>\n",
       "      <td>104243</td>\n",
       "      <td>187144</td>\n",
       "      <td>3.5</td>\n",
       "    </tr>\n",
       "    <tr>\n",
       "      <th>28490113</th>\n",
       "      <td>104374</td>\n",
       "      <td>187144</td>\n",
       "      <td>3.5</td>\n",
       "    </tr>\n",
       "    <tr>\n",
       "      <th>28490114</th>\n",
       "      <td>104841</td>\n",
       "      <td>187144</td>\n",
       "      <td>3.0</td>\n",
       "    </tr>\n",
       "    <tr>\n",
       "      <th>28490115</th>\n",
       "      <td>104913</td>\n",
       "      <td>187144</td>\n",
       "      <td>4.0</td>\n",
       "    </tr>\n",
       "  </tbody>\n",
       "</table>\n",
       "<p>28490116 rows × 3 columns</p>\n",
       "</div>"
      ],
      "text/plain": [
       "          item_id  user_id  rating\n",
       "0               5   997206     3.0\n",
       "1              10   997206     4.0\n",
       "2              13   997206     4.0\n",
       "3              17   997206     5.0\n",
       "4              21   997206     4.0\n",
       "...           ...      ...     ...\n",
       "28490111   104211   187144     1.5\n",
       "28490112   104243   187144     3.5\n",
       "28490113   104374   187144     3.5\n",
       "28490114   104841   187144     3.0\n",
       "28490115   104913   187144     4.0\n",
       "\n",
       "[28490116 rows x 3 columns]"
      ]
     },
     "execution_count": 176,
     "metadata": {},
     "output_type": "execute_result"
    }
   ],
   "source": [
    "df_ratings"
   ]
  },
  {
   "cell_type": "code",
   "execution_count": 186,
   "metadata": {},
   "outputs": [
    {
     "name": "stdout",
     "output_type": "stream",
     "text": [
      "Number of users:  247383\n",
      "Number of movies rated:  67873   0.801703263604257\n",
      "Total number of movies:  84661\n",
      "Number of movies whose avgRating is not zero: 70755\n"
     ]
    }
   ],
   "source": [
    "print('Number of users: ', df_ratings['user_id'].nunique())\n",
    "print('Number of movies rated: ', df_ratings['item_id'].nunique(), ' ', \n",
    "     df_ratings['item_id'].nunique() / df_metadata['item_id'].nunique())\n",
    "print('Total number of movies: ', df_metadata['item_id'].nunique())\n",
    "print('Number of movies whose avgRating is not zero:', (df_metadata['avgRating'] != 0).sum())"
   ]
  },
  {
   "cell_type": "markdown",
   "metadata": {},
   "source": [
    "About 80% of movies have been rated. Compared with the percent of tagged movies (47%), we can see that people tend to rate movies more frequently than tagging them. \n",
    "\n",
    "One more thing to note here is that *avgRating = 0* does not mean this movie is not rated."
   ]
  },
  {
   "cell_type": "code",
   "execution_count": 198,
   "metadata": {
    "scrolled": true
   },
   "outputs": [
    {
     "data": {
      "text/plain": [
       "[0.5, 1.0, 1.5, 2.0, 2.5, 3.0, 3.5, 4.0, 4.5, 5.0]"
      ]
     },
     "execution_count": 198,
     "metadata": {},
     "output_type": "execute_result"
    }
   ],
   "source": [
    "# Print unique value of 'rating'\n",
    "sorted(df_ratings['rating'].unique())"
   ]
  },
  {
   "cell_type": "code",
   "execution_count": 207,
   "metadata": {},
   "outputs": [
    {
     "data": {
      "text/html": [
       "<div>\n",
       "<style scoped>\n",
       "    .dataframe tbody tr th:only-of-type {\n",
       "        vertical-align: middle;\n",
       "    }\n",
       "\n",
       "    .dataframe tbody tr th {\n",
       "        vertical-align: top;\n",
       "    }\n",
       "\n",
       "    .dataframe thead th {\n",
       "        text-align: right;\n",
       "    }\n",
       "</style>\n",
       "<table border=\"1\" class=\"dataframe\">\n",
       "  <thead>\n",
       "    <tr style=\"text-align: right;\">\n",
       "      <th></th>\n",
       "      <th>rating</th>\n",
       "      <th>counts</th>\n",
       "    </tr>\n",
       "  </thead>\n",
       "  <tbody>\n",
       "    <tr>\n",
       "      <th>0</th>\n",
       "      <td>0.5</td>\n",
       "      <td>452497</td>\n",
       "    </tr>\n",
       "    <tr>\n",
       "      <th>1</th>\n",
       "      <td>1.0</td>\n",
       "      <td>903188</td>\n",
       "    </tr>\n",
       "    <tr>\n",
       "      <th>2</th>\n",
       "      <td>1.5</td>\n",
       "      <td>459396</td>\n",
       "    </tr>\n",
       "    <tr>\n",
       "      <th>3</th>\n",
       "      <td>2.0</td>\n",
       "      <td>1893423</td>\n",
       "    </tr>\n",
       "    <tr>\n",
       "      <th>4</th>\n",
       "      <td>2.5</td>\n",
       "      <td>1431136</td>\n",
       "    </tr>\n",
       "    <tr>\n",
       "      <th>5</th>\n",
       "      <td>3.0</td>\n",
       "      <td>5642345</td>\n",
       "    </tr>\n",
       "    <tr>\n",
       "      <th>6</th>\n",
       "      <td>3.5</td>\n",
       "      <td>3547626</td>\n",
       "    </tr>\n",
       "    <tr>\n",
       "      <th>7</th>\n",
       "      <td>4.0</td>\n",
       "      <td>7561486</td>\n",
       "    </tr>\n",
       "    <tr>\n",
       "      <th>8</th>\n",
       "      <td>4.5</td>\n",
       "      <td>2450560</td>\n",
       "    </tr>\n",
       "    <tr>\n",
       "      <th>9</th>\n",
       "      <td>5.0</td>\n",
       "      <td>4148459</td>\n",
       "    </tr>\n",
       "  </tbody>\n",
       "</table>\n",
       "</div>"
      ],
      "text/plain": [
       "   rating   counts\n",
       "0     0.5   452497\n",
       "1     1.0   903188\n",
       "2     1.5   459396\n",
       "3     2.0  1893423\n",
       "4     2.5  1431136\n",
       "5     3.0  5642345\n",
       "6     3.5  3547626\n",
       "7     4.0  7561486\n",
       "8     4.5  2450560\n",
       "9     5.0  4148459"
      ]
     },
     "execution_count": 207,
     "metadata": {},
     "output_type": "execute_result"
    }
   ],
   "source": [
    "df_rating_counts = df_ratings.groupby('rating').size().reset_index(name='counts')\n",
    "df_rating_counts"
   ]
  },
  {
   "cell_type": "code",
   "execution_count": 218,
   "metadata": {},
   "outputs": [
    {
     "data": {
      "image/png": "[encoded data removed]",
      "text/plain": [
       "<Figure size 640x480 with 1 Axes>"
      ]
     },
     "metadata": {},
     "output_type": "display_data"
    }
   ],
   "source": [
    "sns.set(style=\"darkgrid\")\n",
    "sns.barplot(data=df_rating_counts, x = 'rating', y = 'counts', palette = 'crest').set(title='Counts of ratings')\n",
    "\n",
    "plt.show()"
   ]
  },
  {
   "cell_type": "markdown",
   "metadata": {},
   "source": [
    "### 3.5 reviews"
   ]
  },
  {
   "cell_type": "code",
   "execution_count": 230,
   "metadata": {},
   "outputs": [
    {
     "data": {
      "text/html": [
       "<div>\n",
       "<style scoped>\n",
       "    .dataframe tbody tr th:only-of-type {\n",
       "        vertical-align: middle;\n",
       "    }\n",
       "\n",
       "    .dataframe tbody tr th {\n",
       "        vertical-align: top;\n",
       "    }\n",
       "\n",
       "    .dataframe thead th {\n",
       "        text-align: right;\n",
       "    }\n",
       "</style>\n",
       "<table border=\"1\" class=\"dataframe\">\n",
       "  <thead>\n",
       "    <tr style=\"text-align: right;\">\n",
       "      <th></th>\n",
       "      <th>item_id</th>\n",
       "      <th>txt</th>\n",
       "    </tr>\n",
       "  </thead>\n",
       "  <tbody>\n",
       "    <tr>\n",
       "      <th>0</th>\n",
       "      <td>172063</td>\n",
       "      <td>one-shot record of a belly dancer; \"Carmencita...</td>\n",
       "    </tr>\n",
       "    <tr>\n",
       "      <th>1</th>\n",
       "      <td>95541</td>\n",
       "      <td>Banging Away..; Thomas Edison and William K.L....</td>\n",
       "    </tr>\n",
       "    <tr>\n",
       "      <th>2</th>\n",
       "      <td>7065</td>\n",
       "      <td>unbelievable; I cannot understand how anyone c...</td>\n",
       "    </tr>\n",
       "    <tr>\n",
       "      <th>3</th>\n",
       "      <td>3739</td>\n",
       "      <td>I'm still starry-eyed from it; I saw this last...</td>\n",
       "    </tr>\n",
       "    <tr>\n",
       "      <th>4</th>\n",
       "      <td>1562</td>\n",
       "      <td>Failed on every Front; Joel Schumacher who did...</td>\n",
       "    </tr>\n",
       "    <tr>\n",
       "      <th>...</th>\n",
       "      <td>...</td>\n",
       "      <td>...</td>\n",
       "    </tr>\n",
       "    <tr>\n",
       "      <th>2624603</th>\n",
       "      <td>520</td>\n",
       "      <td>Aims low, with hilarious results; ROBIN HOOD: ...</td>\n",
       "    </tr>\n",
       "    <tr>\n",
       "      <th>2624604</th>\n",
       "      <td>8640</td>\n",
       "      <td>Worst epic of 2004; I usually love big epics i...</td>\n",
       "    </tr>\n",
       "    <tr>\n",
       "      <th>2624605</th>\n",
       "      <td>1377</td>\n",
       "      <td>superb Second Movie; I was glad to see that Ti...</td>\n",
       "    </tr>\n",
       "    <tr>\n",
       "      <th>2624606</th>\n",
       "      <td>26746</td>\n",
       "      <td>Seagal takes out the garbage; This is hard cor...</td>\n",
       "    </tr>\n",
       "    <tr>\n",
       "      <th>2624607</th>\n",
       "      <td>34045</td>\n",
       "      <td>Is that I as in Butterfly?; In 2004, a film wa...</td>\n",
       "    </tr>\n",
       "  </tbody>\n",
       "</table>\n",
       "<p>2624608 rows × 2 columns</p>\n",
       "</div>"
      ],
      "text/plain": [
       "         item_id                                                txt\n",
       "0         172063  one-shot record of a belly dancer; \"Carmencita...\n",
       "1          95541  Banging Away..; Thomas Edison and William K.L....\n",
       "2           7065  unbelievable; I cannot understand how anyone c...\n",
       "3           3739  I'm still starry-eyed from it; I saw this last...\n",
       "4           1562  Failed on every Front; Joel Schumacher who did...\n",
       "...          ...                                                ...\n",
       "2624603      520  Aims low, with hilarious results; ROBIN HOOD: ...\n",
       "2624604     8640  Worst epic of 2004; I usually love big epics i...\n",
       "2624605     1377  superb Second Movie; I was glad to see that Ti...\n",
       "2624606    26746  Seagal takes out the garbage; This is hard cor...\n",
       "2624607    34045  Is that I as in Butterfly?; In 2004, a film wa...\n",
       "\n",
       "[2624608 rows x 2 columns]"
      ]
     },
     "execution_count": 230,
     "metadata": {},
     "output_type": "execute_result"
    }
   ],
   "source": [
    "df_reviews"
   ]
  },
  {
   "cell_type": "code",
   "execution_count": 231,
   "metadata": {},
   "outputs": [
    {
     "data": {
      "text/plain": [
       "'one-shot record of a belly dancer; \"Carmencita Dancing,\" one of a series of Edison short films featuring \\r circus and vaudeville acts, displayed the... um... \"talents\" of a zaftig belly-dancer who agreed to undulate before the camera of the famous \"Black \\r Maria\" studio. \\r \\r The dance was originally intended to be played in a Kinetoscope, a single -person arcade viewer connected to Edison\\'s more famous invention, the phonograph. Through a pair of crude headphones, the latter device supplied an asynchronous soundtrack of \"hootchie-cootchie\" music. \\r \\r The Kinetograph camera here employed is so new -- even to its inventors \\r -- that director Dickson has drastically \"overcranked\" the film, unintentionally producing one of the first examples of slow-motion.\\r \\r Carmencita\\'s titillating movements were considered by many to be \\r scandalous. Thus, the film prompted some of the earliest discussions of film censorship.'"
      ]
     },
     "execution_count": 231,
     "metadata": {},
     "output_type": "execute_result"
    }
   ],
   "source": [
    "df_reviews.iloc[0,1]"
   ]
  },
  {
   "cell_type": "code",
   "execution_count": null,
   "metadata": {},
   "outputs": [],
   "source": [
    "# Define a function to split paragraph to words\n",
    "def text_to_words(paragraph):\n",
    "  sent_text = nltk.sent_tokenize(str(paragraph))\n",
    "  all_tagged = [nltk.word_tokenize(sent) for sent in sent_text]\n",
    "  flat_list = [item for sublist in all_tagged for item in sublist]\n",
    "  return flat_list"
   ]
  }
 ],
 "metadata": {
  "accelerator": "GPU",
  "colab": {
   "gpuType": "T4",
   "provenance": []
  },
  "kernelspec": {
   "display_name": "Python 3 (ipykernel)",
   "language": "python",
   "name": "python3"
  },
  "language_info": {
   "codemirror_mode": {
    "name": "ipython",
    "version": 3
   },
   "file_extension": ".py",
   "mimetype": "text/x-python",
   "name": "python",
   "nbconvert_exporter": "python",
   "pygments_lexer": "ipython3",
   "version": "3.9.12"
  }
 },
 "nbformat": 4,
 "nbformat_minor": 1
}
